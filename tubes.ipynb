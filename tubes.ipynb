{
 "cells": [
  {
   "cell_type": "code",
   "execution_count": 32,
   "metadata": {
    "id": "yNs6AMqmQGao"
   },
   "outputs": [],
   "source": [
    "import pandas as pd\n",
    "import numpy as np\n",
    "import seaborn as sns\n",
    "import matplotlib.pyplot as plt\n",
    "from sklearn.preprocessing import MinMaxScaler\n",
    "from sklearn.decomposition import PCA\n",
    "import math\n",
    "import random\n",
    "from sklearn.cluster import KMeans\n",
    "from sklearn import metrics\n",
    "from scipy.spatial.distance import cdist"
   ]
  },
  {
   "cell_type": "code",
   "execution_count": 33,
   "metadata": {
    "colab": {
     "base_uri": "https://localhost:8080/",
     "height": 224
    },
    "id": "WSQIa-hzQLwZ",
    "outputId": "d8361795-bbca-4836-bded-50eb5a4f84d3"
   },
   "outputs": [
    {
     "data": {
      "text/html": [
       "<div>\n",
       "<style scoped>\n",
       "    .dataframe tbody tr th:only-of-type {\n",
       "        vertical-align: middle;\n",
       "    }\n",
       "\n",
       "    .dataframe tbody tr th {\n",
       "        vertical-align: top;\n",
       "    }\n",
       "\n",
       "    .dataframe thead th {\n",
       "        text-align: right;\n",
       "    }\n",
       "</style>\n",
       "<table border=\"1\" class=\"dataframe\">\n",
       "  <thead>\n",
       "    <tr style=\"text-align: right;\">\n",
       "      <th></th>\n",
       "      <th>Jenis_Kelamin</th>\n",
       "      <th>Umur</th>\n",
       "      <th>SIM</th>\n",
       "      <th>Kode_Daerah</th>\n",
       "      <th>Sudah_Asuransi</th>\n",
       "      <th>Umur_Kendaraan</th>\n",
       "      <th>Kendaraan_Rusak</th>\n",
       "      <th>Premi</th>\n",
       "      <th>Kanal_Penjualan</th>\n",
       "      <th>Lama_Berlangganan</th>\n",
       "      <th>Tertarik</th>\n",
       "    </tr>\n",
       "  </thead>\n",
       "  <tbody>\n",
       "    <tr>\n",
       "      <th>0</th>\n",
       "      <td>Wanita</td>\n",
       "      <td>49</td>\n",
       "      <td>1</td>\n",
       "      <td>8</td>\n",
       "      <td>0</td>\n",
       "      <td>1-2 Tahun</td>\n",
       "      <td>Pernah</td>\n",
       "      <td>46963</td>\n",
       "      <td>26</td>\n",
       "      <td>145</td>\n",
       "      <td>0</td>\n",
       "    </tr>\n",
       "    <tr>\n",
       "      <th>1</th>\n",
       "      <td>Pria</td>\n",
       "      <td>22</td>\n",
       "      <td>1</td>\n",
       "      <td>47</td>\n",
       "      <td>1</td>\n",
       "      <td>&lt; 1 Tahun</td>\n",
       "      <td>Tidak</td>\n",
       "      <td>39624</td>\n",
       "      <td>152</td>\n",
       "      <td>241</td>\n",
       "      <td>0</td>\n",
       "    </tr>\n",
       "    <tr>\n",
       "      <th>2</th>\n",
       "      <td>Pria</td>\n",
       "      <td>24</td>\n",
       "      <td>1</td>\n",
       "      <td>28</td>\n",
       "      <td>1</td>\n",
       "      <td>&lt; 1 Tahun</td>\n",
       "      <td>Tidak</td>\n",
       "      <td>110479</td>\n",
       "      <td>152</td>\n",
       "      <td>62</td>\n",
       "      <td>0</td>\n",
       "    </tr>\n",
       "    <tr>\n",
       "      <th>3</th>\n",
       "      <td>Pria</td>\n",
       "      <td>46</td>\n",
       "      <td>1</td>\n",
       "      <td>8</td>\n",
       "      <td>1</td>\n",
       "      <td>1-2 Tahun</td>\n",
       "      <td>Tidak</td>\n",
       "      <td>36266</td>\n",
       "      <td>124</td>\n",
       "      <td>34</td>\n",
       "      <td>0</td>\n",
       "    </tr>\n",
       "    <tr>\n",
       "      <th>4</th>\n",
       "      <td>Pria</td>\n",
       "      <td>35</td>\n",
       "      <td>1</td>\n",
       "      <td>23</td>\n",
       "      <td>0</td>\n",
       "      <td>1-2 Tahun</td>\n",
       "      <td>Pernah</td>\n",
       "      <td>26963</td>\n",
       "      <td>152</td>\n",
       "      <td>229</td>\n",
       "      <td>0</td>\n",
       "    </tr>\n",
       "  </tbody>\n",
       "</table>\n",
       "</div>"
      ],
      "text/plain": [
       "  Jenis_Kelamin  Umur  SIM  Kode_Daerah  Sudah_Asuransi Umur_Kendaraan  \\\n",
       "0        Wanita    49    1            8               0      1-2 Tahun   \n",
       "1          Pria    22    1           47               1      < 1 Tahun   \n",
       "2          Pria    24    1           28               1      < 1 Tahun   \n",
       "3          Pria    46    1            8               1      1-2 Tahun   \n",
       "4          Pria    35    1           23               0      1-2 Tahun   \n",
       "\n",
       "  Kendaraan_Rusak   Premi  Kanal_Penjualan  Lama_Berlangganan  Tertarik  \n",
       "0          Pernah   46963               26                145         0  \n",
       "1           Tidak   39624              152                241         0  \n",
       "2           Tidak  110479              152                 62         0  \n",
       "3           Tidak   36266              124                 34         0  \n",
       "4          Pernah   26963              152                229         0  "
      ]
     },
     "execution_count": 33,
     "metadata": {},
     "output_type": "execute_result"
    }
   ],
   "source": [
    "# Importing Dataset\n",
    "df = pd.read_csv(\"kendaraan_test.csv\")\n",
    "df.head()"
   ]
  },
  {
   "cell_type": "code",
   "execution_count": 34,
   "metadata": {
    "colab": {
     "base_uri": "https://localhost:8080/",
     "height": 439
    },
    "id": "elGIc4KrQMyQ",
    "outputId": "8c86a7ef-0fc1-48a9-c470-04270668b947"
   },
   "outputs": [
    {
     "data": {
      "text/html": [
       "<div>\n",
       "<style scoped>\n",
       "    .dataframe tbody tr th:only-of-type {\n",
       "        vertical-align: middle;\n",
       "    }\n",
       "\n",
       "    .dataframe tbody tr th {\n",
       "        vertical-align: top;\n",
       "    }\n",
       "\n",
       "    .dataframe thead th {\n",
       "        text-align: right;\n",
       "    }\n",
       "</style>\n",
       "<table border=\"1\" class=\"dataframe\">\n",
       "  <thead>\n",
       "    <tr style=\"text-align: right;\">\n",
       "      <th></th>\n",
       "      <th>Jenis_Kelamin</th>\n",
       "      <th>Umur</th>\n",
       "      <th>SIM</th>\n",
       "      <th>Kode_Daerah</th>\n",
       "      <th>Sudah_Asuransi</th>\n",
       "      <th>Umur_Kendaraan</th>\n",
       "      <th>Kendaraan_Rusak</th>\n",
       "      <th>Premi</th>\n",
       "      <th>Kanal_Penjualan</th>\n",
       "      <th>Lama_Berlangganan</th>\n",
       "      <th>Tertarik</th>\n",
       "    </tr>\n",
       "  </thead>\n",
       "  <tbody>\n",
       "    <tr>\n",
       "      <th>0</th>\n",
       "      <td>0</td>\n",
       "      <td>49</td>\n",
       "      <td>1</td>\n",
       "      <td>8</td>\n",
       "      <td>0</td>\n",
       "      <td>1</td>\n",
       "      <td>1</td>\n",
       "      <td>46963</td>\n",
       "      <td>26</td>\n",
       "      <td>145</td>\n",
       "      <td>0</td>\n",
       "    </tr>\n",
       "    <tr>\n",
       "      <th>1</th>\n",
       "      <td>1</td>\n",
       "      <td>22</td>\n",
       "      <td>1</td>\n",
       "      <td>47</td>\n",
       "      <td>1</td>\n",
       "      <td>0</td>\n",
       "      <td>0</td>\n",
       "      <td>39624</td>\n",
       "      <td>152</td>\n",
       "      <td>241</td>\n",
       "      <td>0</td>\n",
       "    </tr>\n",
       "    <tr>\n",
       "      <th>2</th>\n",
       "      <td>1</td>\n",
       "      <td>24</td>\n",
       "      <td>1</td>\n",
       "      <td>28</td>\n",
       "      <td>1</td>\n",
       "      <td>0</td>\n",
       "      <td>0</td>\n",
       "      <td>110479</td>\n",
       "      <td>152</td>\n",
       "      <td>62</td>\n",
       "      <td>0</td>\n",
       "    </tr>\n",
       "    <tr>\n",
       "      <th>3</th>\n",
       "      <td>1</td>\n",
       "      <td>46</td>\n",
       "      <td>1</td>\n",
       "      <td>8</td>\n",
       "      <td>1</td>\n",
       "      <td>1</td>\n",
       "      <td>0</td>\n",
       "      <td>36266</td>\n",
       "      <td>124</td>\n",
       "      <td>34</td>\n",
       "      <td>0</td>\n",
       "    </tr>\n",
       "    <tr>\n",
       "      <th>4</th>\n",
       "      <td>1</td>\n",
       "      <td>35</td>\n",
       "      <td>1</td>\n",
       "      <td>23</td>\n",
       "      <td>0</td>\n",
       "      <td>1</td>\n",
       "      <td>1</td>\n",
       "      <td>26963</td>\n",
       "      <td>152</td>\n",
       "      <td>229</td>\n",
       "      <td>0</td>\n",
       "    </tr>\n",
       "    <tr>\n",
       "      <th>...</th>\n",
       "      <td>...</td>\n",
       "      <td>...</td>\n",
       "      <td>...</td>\n",
       "      <td>...</td>\n",
       "      <td>...</td>\n",
       "      <td>...</td>\n",
       "      <td>...</td>\n",
       "      <td>...</td>\n",
       "      <td>...</td>\n",
       "      <td>...</td>\n",
       "      <td>...</td>\n",
       "    </tr>\n",
       "    <tr>\n",
       "      <th>47634</th>\n",
       "      <td>1</td>\n",
       "      <td>61</td>\n",
       "      <td>1</td>\n",
       "      <td>46</td>\n",
       "      <td>0</td>\n",
       "      <td>2</td>\n",
       "      <td>1</td>\n",
       "      <td>31039</td>\n",
       "      <td>124</td>\n",
       "      <td>67</td>\n",
       "      <td>0</td>\n",
       "    </tr>\n",
       "    <tr>\n",
       "      <th>47635</th>\n",
       "      <td>1</td>\n",
       "      <td>41</td>\n",
       "      <td>1</td>\n",
       "      <td>15</td>\n",
       "      <td>0</td>\n",
       "      <td>1</td>\n",
       "      <td>1</td>\n",
       "      <td>2630</td>\n",
       "      <td>157</td>\n",
       "      <td>232</td>\n",
       "      <td>0</td>\n",
       "    </tr>\n",
       "    <tr>\n",
       "      <th>47636</th>\n",
       "      <td>1</td>\n",
       "      <td>24</td>\n",
       "      <td>1</td>\n",
       "      <td>29</td>\n",
       "      <td>1</td>\n",
       "      <td>0</td>\n",
       "      <td>0</td>\n",
       "      <td>33101</td>\n",
       "      <td>152</td>\n",
       "      <td>211</td>\n",
       "      <td>0</td>\n",
       "    </tr>\n",
       "    <tr>\n",
       "      <th>47637</th>\n",
       "      <td>1</td>\n",
       "      <td>59</td>\n",
       "      <td>1</td>\n",
       "      <td>30</td>\n",
       "      <td>0</td>\n",
       "      <td>1</td>\n",
       "      <td>1</td>\n",
       "      <td>37788</td>\n",
       "      <td>26</td>\n",
       "      <td>239</td>\n",
       "      <td>1</td>\n",
       "    </tr>\n",
       "    <tr>\n",
       "      <th>47638</th>\n",
       "      <td>1</td>\n",
       "      <td>52</td>\n",
       "      <td>1</td>\n",
       "      <td>31</td>\n",
       "      <td>0</td>\n",
       "      <td>1</td>\n",
       "      <td>0</td>\n",
       "      <td>2630</td>\n",
       "      <td>124</td>\n",
       "      <td>170</td>\n",
       "      <td>0</td>\n",
       "    </tr>\n",
       "  </tbody>\n",
       "</table>\n",
       "<p>47639 rows × 11 columns</p>\n",
       "</div>"
      ],
      "text/plain": [
       "       Jenis_Kelamin  Umur  SIM  Kode_Daerah  Sudah_Asuransi  Umur_Kendaraan  \\\n",
       "0                  0    49    1            8               0               1   \n",
       "1                  1    22    1           47               1               0   \n",
       "2                  1    24    1           28               1               0   \n",
       "3                  1    46    1            8               1               1   \n",
       "4                  1    35    1           23               0               1   \n",
       "...              ...   ...  ...          ...             ...             ...   \n",
       "47634              1    61    1           46               0               2   \n",
       "47635              1    41    1           15               0               1   \n",
       "47636              1    24    1           29               1               0   \n",
       "47637              1    59    1           30               0               1   \n",
       "47638              1    52    1           31               0               1   \n",
       "\n",
       "       Kendaraan_Rusak   Premi  Kanal_Penjualan  Lama_Berlangganan  Tertarik  \n",
       "0                    1   46963               26                145         0  \n",
       "1                    0   39624              152                241         0  \n",
       "2                    0  110479              152                 62         0  \n",
       "3                    0   36266              124                 34         0  \n",
       "4                    1   26963              152                229         0  \n",
       "...                ...     ...              ...                ...       ...  \n",
       "47634                1   31039              124                 67         0  \n",
       "47635                1    2630              157                232         0  \n",
       "47636                0   33101              152                211         0  \n",
       "47637                1   37788               26                239         1  \n",
       "47638                0    2630              124                170         0  \n",
       "\n",
       "[47639 rows x 11 columns]"
      ]
     },
     "execution_count": 34,
     "metadata": {},
     "output_type": "execute_result"
    }
   ],
   "source": [
    "# Replace String to numeric\n",
    "df['Jenis_Kelamin'].replace('Wanita', 0, inplace=True)\n",
    "df['Jenis_Kelamin'].replace('Pria', 1, inplace=True)\n",
    "df['Umur_Kendaraan'].replace('< 1 Tahun', 0, inplace=True)\n",
    "df['Umur_Kendaraan'].replace('1-2 Tahun', 1, inplace=True)\n",
    "df['Umur_Kendaraan'].replace('> 2 Tahun', 2, inplace=True)\n",
    "df['Kendaraan_Rusak'].replace('Pernah', 1, inplace=True)\n",
    "df['Kendaraan_Rusak'].replace('Tidak', 0, inplace=True)\n",
    "df"
   ]
  },
  {
   "cell_type": "code",
   "execution_count": 35,
   "metadata": {
    "colab": {
     "base_uri": "https://localhost:8080/",
     "height": 419
    },
    "id": "_tW4POamQOOi",
    "outputId": "eaa9cb81-b658-4cf6-e766-0bf013c01738"
   },
   "outputs": [
    {
     "data": {
      "text/html": [
       "<div>\n",
       "<style scoped>\n",
       "    .dataframe tbody tr th:only-of-type {\n",
       "        vertical-align: middle;\n",
       "    }\n",
       "\n",
       "    .dataframe tbody tr th {\n",
       "        vertical-align: top;\n",
       "    }\n",
       "\n",
       "    .dataframe thead th {\n",
       "        text-align: right;\n",
       "    }\n",
       "</style>\n",
       "<table border=\"1\" class=\"dataframe\">\n",
       "  <thead>\n",
       "    <tr style=\"text-align: right;\">\n",
       "      <th></th>\n",
       "      <th>Umur</th>\n",
       "      <th>Kode_Daerah</th>\n",
       "      <th>Premi</th>\n",
       "      <th>Kanal_Penjualan</th>\n",
       "      <th>Lama_Berlangganan</th>\n",
       "    </tr>\n",
       "  </thead>\n",
       "  <tbody>\n",
       "    <tr>\n",
       "      <th>0</th>\n",
       "      <td>49</td>\n",
       "      <td>8</td>\n",
       "      <td>46963</td>\n",
       "      <td>26</td>\n",
       "      <td>145</td>\n",
       "    </tr>\n",
       "    <tr>\n",
       "      <th>1</th>\n",
       "      <td>22</td>\n",
       "      <td>47</td>\n",
       "      <td>39624</td>\n",
       "      <td>152</td>\n",
       "      <td>241</td>\n",
       "    </tr>\n",
       "    <tr>\n",
       "      <th>2</th>\n",
       "      <td>24</td>\n",
       "      <td>28</td>\n",
       "      <td>110479</td>\n",
       "      <td>152</td>\n",
       "      <td>62</td>\n",
       "    </tr>\n",
       "    <tr>\n",
       "      <th>3</th>\n",
       "      <td>46</td>\n",
       "      <td>8</td>\n",
       "      <td>36266</td>\n",
       "      <td>124</td>\n",
       "      <td>34</td>\n",
       "    </tr>\n",
       "    <tr>\n",
       "      <th>4</th>\n",
       "      <td>35</td>\n",
       "      <td>23</td>\n",
       "      <td>26963</td>\n",
       "      <td>152</td>\n",
       "      <td>229</td>\n",
       "    </tr>\n",
       "    <tr>\n",
       "      <th>...</th>\n",
       "      <td>...</td>\n",
       "      <td>...</td>\n",
       "      <td>...</td>\n",
       "      <td>...</td>\n",
       "      <td>...</td>\n",
       "    </tr>\n",
       "    <tr>\n",
       "      <th>47634</th>\n",
       "      <td>61</td>\n",
       "      <td>46</td>\n",
       "      <td>31039</td>\n",
       "      <td>124</td>\n",
       "      <td>67</td>\n",
       "    </tr>\n",
       "    <tr>\n",
       "      <th>47635</th>\n",
       "      <td>41</td>\n",
       "      <td>15</td>\n",
       "      <td>2630</td>\n",
       "      <td>157</td>\n",
       "      <td>232</td>\n",
       "    </tr>\n",
       "    <tr>\n",
       "      <th>47636</th>\n",
       "      <td>24</td>\n",
       "      <td>29</td>\n",
       "      <td>33101</td>\n",
       "      <td>152</td>\n",
       "      <td>211</td>\n",
       "    </tr>\n",
       "    <tr>\n",
       "      <th>47637</th>\n",
       "      <td>59</td>\n",
       "      <td>30</td>\n",
       "      <td>37788</td>\n",
       "      <td>26</td>\n",
       "      <td>239</td>\n",
       "    </tr>\n",
       "    <tr>\n",
       "      <th>47638</th>\n",
       "      <td>52</td>\n",
       "      <td>31</td>\n",
       "      <td>2630</td>\n",
       "      <td>124</td>\n",
       "      <td>170</td>\n",
       "    </tr>\n",
       "  </tbody>\n",
       "</table>\n",
       "<p>47639 rows × 5 columns</p>\n",
       "</div>"
      ],
      "text/plain": [
       "       Umur  Kode_Daerah   Premi  Kanal_Penjualan  Lama_Berlangganan\n",
       "0        49            8   46963               26                145\n",
       "1        22           47   39624              152                241\n",
       "2        24           28  110479              152                 62\n",
       "3        46            8   36266              124                 34\n",
       "4        35           23   26963              152                229\n",
       "...     ...          ...     ...              ...                ...\n",
       "47634    61           46   31039              124                 67\n",
       "47635    41           15    2630              157                232\n",
       "47636    24           29   33101              152                211\n",
       "47637    59           30   37788               26                239\n",
       "47638    52           31    2630              124                170\n",
       "\n",
       "[47639 rows x 5 columns]"
      ]
     },
     "execution_count": 35,
     "metadata": {},
     "output_type": "execute_result"
    }
   ],
   "source": [
    "# Drop unuse collumn\n",
    "df.drop('Jenis_Kelamin',axis='columns', inplace=True)\n",
    "df.drop('SIM',axis='columns', inplace=True)\n",
    "df.drop('Sudah_Asuransi',axis='columns', inplace=True)\n",
    "df.drop('Umur_Kendaraan',axis='columns', inplace=True)\n",
    "df.drop('Kendaraan_Rusak',axis='columns', inplace=True)\n",
    "df.drop('Tertarik',axis='columns', inplace=True)\n",
    "# df.drop('id',axis='columns', inplace=True)\n",
    "df"
   ]
  },
  {
   "cell_type": "code",
   "execution_count": 36,
   "metadata": {
    "colab": {
     "base_uri": "https://localhost:8080/",
     "height": 350
    },
    "id": "ox1QtkC4QRft",
    "outputId": "eeecdc53-4629-4fca-f2ea-a90c0813d658"
   },
   "outputs": [
    {
     "name": "stderr",
     "output_type": "stream",
     "text": [
      "C:\\Users\\Ajar\\AppData\\Local\\Programs\\Python\\Python39\\lib\\site-packages\\seaborn\\_decorators.py:36: FutureWarning: Pass the following variable as a keyword arg: x. From version 0.12, the only valid positional argument will be `data`, and passing other arguments without an explicit keyword will result in an error or misinterpretation.\n",
      "  warnings.warn(\n"
     ]
    },
    {
     "data": {
      "text/plain": [
       "<AxesSubplot:xlabel='Premi'>"
      ]
     },
     "execution_count": 36,
     "metadata": {},
     "output_type": "execute_result"
    },
    {
     "data": {
      "image/png": "[encoded data removed]",
      "text/plain": [
       "<Figure size 432x288 with 1 Axes>"
      ]
     },
     "metadata": {
      "needs_background": "light"
     },
     "output_type": "display_data"
    }
   ],
   "source": [
    "# Making boxplot to see outlier\n",
    "sns.boxplot(df['Premi'])"
   ]
  },
  {
   "cell_type": "code",
   "execution_count": 37,
   "metadata": {
    "id": "r3Isaw0MQTRe"
   },
   "outputs": [],
   "source": [
    "# Function for handling outlier data\n",
    "def handling_outlier(df):\n",
    "    q1 = df.quantile(0.25)\n",
    "    q3 = df.quantile(0.75)\n",
    "    IQR = q3-q1\n",
    "    LB=q1 - (IQR * 1.5)\n",
    "    UB=q3 + (IQR *1.5)\n",
    "    dff = df[((df>LB) & (df<UB))]\n",
    "    return dff"
   ]
  },
  {
   "cell_type": "code",
   "execution_count": 38,
   "metadata": {
    "colab": {
     "base_uri": "https://localhost:8080/",
     "height": 419
    },
    "id": "5noptEjSQUys",
    "outputId": "9a75491a-3052-4f8b-a663-24374ac75103"
   },
   "outputs": [
    {
     "data": {
      "text/html": [
       "<div>\n",
       "<style scoped>\n",
       "    .dataframe tbody tr th:only-of-type {\n",
       "        vertical-align: middle;\n",
       "    }\n",
       "\n",
       "    .dataframe tbody tr th {\n",
       "        vertical-align: top;\n",
       "    }\n",
       "\n",
       "    .dataframe thead th {\n",
       "        text-align: right;\n",
       "    }\n",
       "</style>\n",
       "<table border=\"1\" class=\"dataframe\">\n",
       "  <thead>\n",
       "    <tr style=\"text-align: right;\">\n",
       "      <th></th>\n",
       "      <th>Umur</th>\n",
       "      <th>Kode_Daerah</th>\n",
       "      <th>Premi</th>\n",
       "      <th>Kanal_Penjualan</th>\n",
       "      <th>Lama_Berlangganan</th>\n",
       "    </tr>\n",
       "  </thead>\n",
       "  <tbody>\n",
       "    <tr>\n",
       "      <th>0</th>\n",
       "      <td>49</td>\n",
       "      <td>8</td>\n",
       "      <td>46963.0</td>\n",
       "      <td>26</td>\n",
       "      <td>145</td>\n",
       "    </tr>\n",
       "    <tr>\n",
       "      <th>1</th>\n",
       "      <td>22</td>\n",
       "      <td>47</td>\n",
       "      <td>39624.0</td>\n",
       "      <td>152</td>\n",
       "      <td>241</td>\n",
       "    </tr>\n",
       "    <tr>\n",
       "      <th>2</th>\n",
       "      <td>24</td>\n",
       "      <td>28</td>\n",
       "      <td>NaN</td>\n",
       "      <td>152</td>\n",
       "      <td>62</td>\n",
       "    </tr>\n",
       "    <tr>\n",
       "      <th>3</th>\n",
       "      <td>46</td>\n",
       "      <td>8</td>\n",
       "      <td>36266.0</td>\n",
       "      <td>124</td>\n",
       "      <td>34</td>\n",
       "    </tr>\n",
       "    <tr>\n",
       "      <th>4</th>\n",
       "      <td>35</td>\n",
       "      <td>23</td>\n",
       "      <td>26963.0</td>\n",
       "      <td>152</td>\n",
       "      <td>229</td>\n",
       "    </tr>\n",
       "    <tr>\n",
       "      <th>...</th>\n",
       "      <td>...</td>\n",
       "      <td>...</td>\n",
       "      <td>...</td>\n",
       "      <td>...</td>\n",
       "      <td>...</td>\n",
       "    </tr>\n",
       "    <tr>\n",
       "      <th>47634</th>\n",
       "      <td>61</td>\n",
       "      <td>46</td>\n",
       "      <td>31039.0</td>\n",
       "      <td>124</td>\n",
       "      <td>67</td>\n",
       "    </tr>\n",
       "    <tr>\n",
       "      <th>47635</th>\n",
       "      <td>41</td>\n",
       "      <td>15</td>\n",
       "      <td>2630.0</td>\n",
       "      <td>157</td>\n",
       "      <td>232</td>\n",
       "    </tr>\n",
       "    <tr>\n",
       "      <th>47636</th>\n",
       "      <td>24</td>\n",
       "      <td>29</td>\n",
       "      <td>33101.0</td>\n",
       "      <td>152</td>\n",
       "      <td>211</td>\n",
       "    </tr>\n",
       "    <tr>\n",
       "      <th>47637</th>\n",
       "      <td>59</td>\n",
       "      <td>30</td>\n",
       "      <td>37788.0</td>\n",
       "      <td>26</td>\n",
       "      <td>239</td>\n",
       "    </tr>\n",
       "    <tr>\n",
       "      <th>47638</th>\n",
       "      <td>52</td>\n",
       "      <td>31</td>\n",
       "      <td>2630.0</td>\n",
       "      <td>124</td>\n",
       "      <td>170</td>\n",
       "    </tr>\n",
       "  </tbody>\n",
       "</table>\n",
       "<p>47639 rows × 5 columns</p>\n",
       "</div>"
      ],
      "text/plain": [
       "       Umur  Kode_Daerah    Premi  Kanal_Penjualan  Lama_Berlangganan\n",
       "0        49            8  46963.0               26                145\n",
       "1        22           47  39624.0              152                241\n",
       "2        24           28      NaN              152                 62\n",
       "3        46            8  36266.0              124                 34\n",
       "4        35           23  26963.0              152                229\n",
       "...     ...          ...      ...              ...                ...\n",
       "47634    61           46  31039.0              124                 67\n",
       "47635    41           15   2630.0              157                232\n",
       "47636    24           29  33101.0              152                211\n",
       "47637    59           30  37788.0               26                239\n",
       "47638    52           31   2630.0              124                170\n",
       "\n",
       "[47639 rows x 5 columns]"
      ]
     },
     "execution_count": 38,
     "metadata": {},
     "output_type": "execute_result"
    }
   ],
   "source": [
    "# Calling handling_outlier function\n",
    "df_new = df\n",
    "df_new['Premi'] = handling_outlier(df['Premi'])\n",
    "df_new"
   ]
  },
  {
   "cell_type": "code",
   "execution_count": 39,
   "metadata": {
    "colab": {
     "base_uri": "https://localhost:8080/"
    },
    "id": "O5cvVQxIQW-g",
    "outputId": "9b86d4b0-5167-449e-f1ed-9bc05541a926"
   },
   "outputs": [
    {
     "name": "stdout",
     "output_type": "stream",
     "text": [
      "       Umur  Kode_Daerah         Premi  Kanal_Penjualan  Lama_Berlangganan\n",
      "0        49            8  46963.000000               26                145\n",
      "1        22           47  39624.000000              152                241\n",
      "2        24           28  29319.082061              152                 62\n",
      "3        46            8  36266.000000              124                 34\n",
      "4        35           23  26963.000000              152                229\n",
      "...     ...          ...           ...              ...                ...\n",
      "47634    61           46  31039.000000              124                 67\n",
      "47635    41           15   2630.000000              157                232\n",
      "47636    24           29  33101.000000              152                211\n",
      "47637    59           30  37788.000000               26                239\n",
      "47638    52           31   2630.000000              124                170\n",
      "\n",
      "[47639 rows x 5 columns]\n",
      "Umur                 0\n",
      "Kode_Daerah          0\n",
      "Premi                0\n",
      "Kanal_Penjualan      0\n",
      "Lama_Berlangganan    0\n",
      "dtype: int64\n"
     ]
    }
   ],
   "source": [
    "# Fill NULL value\n",
    "gfg = pd.DataFrame(df_new)\n",
    "meanValue = gfg['Premi'].mean()\n",
    "df_new['Premi'].fillna(value=meanValue, inplace=True)\n",
    "meanValue = gfg['Umur'].mean()\n",
    "df_new['Umur'].fillna(value=meanValue, inplace=True)\n",
    "meanValue = gfg['Kode_Daerah'].mean()\n",
    "df_new['Kode_Daerah'].fillna(value=meanValue, inplace=True)\n",
    "meanValue = gfg['Kanal_Penjualan'].mean()\n",
    "df_new['Kanal_Penjualan'].fillna(value=meanValue, inplace=True)\n",
    "meanValue = gfg['Lama_Berlangganan'].mean()\n",
    "df_new['Lama_Berlangganan'].fillna(value=meanValue, inplace=True)\n",
    "\n",
    "print(df_new)\n",
    "print(df_new.isna().sum())"
   ]
  },
  {
   "cell_type": "code",
   "execution_count": 40,
   "metadata": {},
   "outputs": [
    {
     "data": {
      "text/plain": [
       "<AxesSubplot:>"
      ]
     },
     "execution_count": 40,
     "metadata": {},
     "output_type": "execute_result"
    },
    {
     "data": {
      "image/png": "[encoded data removed]",
      "text/plain": [
       "<Figure size 1080x576 with 2 Axes>"
      ]
     },
     "metadata": {
      "needs_background": "light"
     },
     "output_type": "display_data"
    }
   ],
   "source": [
    "#Visualisasi Korelasinya, Makin terang warnanya, semakin mempunyai korelasi\n",
    "plt.figure(figsize=(15,8))\n",
    "sns.heatmap(df_new.corr(), annot=True, vmin=-1, vmax=1)"
   ]
  },
  {
   "cell_type": "code",
   "execution_count": 41,
   "metadata": {
    "colab": {
     "base_uri": "https://localhost:8080/",
     "height": 350
    },
    "id": "JvqigBUCQYZL",
    "outputId": "ccb645e9-5823-42f0-969d-17729242c624"
   },
   "outputs": [
    {
     "name": "stderr",
     "output_type": "stream",
     "text": [
      "C:\\Users\\Ajar\\AppData\\Local\\Programs\\Python\\Python39\\lib\\site-packages\\seaborn\\_decorators.py:36: FutureWarning: Pass the following variable as a keyword arg: x. From version 0.12, the only valid positional argument will be `data`, and passing other arguments without an explicit keyword will result in an error or misinterpretation.\n",
      "  warnings.warn(\n"
     ]
    },
    {
     "data": {
      "text/plain": [
       "<AxesSubplot:xlabel='Premi'>"
      ]
     },
     "execution_count": 41,
     "metadata": {},
     "output_type": "execute_result"
    },
    {
     "data": {
      "image/png": "[encoded data removed]",
      "text/plain": [
       "<Figure size 432x288 with 1 Axes>"
      ]
     },
     "metadata": {
      "needs_background": "light"
     },
     "output_type": "display_data"
    }
   ],
   "source": [
    "# new boxplot without outlier\n",
    "sns.boxplot(df_new['Premi'])"
   ]
  },
  {
   "cell_type": "code",
   "execution_count": 42,
   "metadata": {
    "colab": {
     "base_uri": "https://localhost:8080/",
     "height": 536
    },
    "id": "t7yi2fa6QZyc",
    "outputId": "01f0beb2-9e19-407b-9df6-9d44eacad779"
   },
   "outputs": [
    {
     "data": {
      "image/png": "[encoded data removed]",
      "text/plain": [
       "<Figure size 1296x720 with 1 Axes>"
      ]
     },
     "metadata": {
      "needs_background": "light"
     },
     "output_type": "display_data"
    }
   ],
   "source": [
    "fig, ax = plt.subplots(figsize = (18,10))\n",
    "ax.scatter(df_new['Umur'], df_new['Kanal_Penjualan'])\n",
    " \n",
    "# x-axis label\n",
    "# ax.set_xlabel('(Proportion non-retail business acres)/(town)')\n",
    " \n",
    "# y-axis label\n",
    "# ax.set_ylabel('(Full-value property-tax rate)/( $10,000)')\n",
    "plt.show()"
   ]
  },
  {
   "cell_type": "code",
   "execution_count": 43,
   "metadata": {
    "colab": {
     "base_uri": "https://localhost:8080/"
    },
    "id": "BaVgpmLZQaP_",
    "outputId": "9f36564c-4c5f-45df-8128-bca0b26bc68b"
   },
   "outputs": [
    {
     "data": {
      "text/html": [
       "<div>\n",
       "<style scoped>\n",
       "    .dataframe tbody tr th:only-of-type {\n",
       "        vertical-align: middle;\n",
       "    }\n",
       "\n",
       "    .dataframe tbody tr th {\n",
       "        vertical-align: top;\n",
       "    }\n",
       "\n",
       "    .dataframe thead th {\n",
       "        text-align: right;\n",
       "    }\n",
       "</style>\n",
       "<table border=\"1\" class=\"dataframe\">\n",
       "  <thead>\n",
       "    <tr style=\"text-align: right;\">\n",
       "      <th></th>\n",
       "      <th>Umur</th>\n",
       "      <th>Kode_Daerah</th>\n",
       "      <th>Premi</th>\n",
       "      <th>Kanal_Penjualan</th>\n",
       "      <th>Lama_Berlangganan</th>\n",
       "    </tr>\n",
       "  </thead>\n",
       "  <tbody>\n",
       "    <tr>\n",
       "      <th>0</th>\n",
       "      <td>0.446154</td>\n",
       "      <td>0.153846</td>\n",
       "      <td>0.745581</td>\n",
       "      <td>0.154321</td>\n",
       "      <td>0.467128</td>\n",
       "    </tr>\n",
       "    <tr>\n",
       "      <th>1</th>\n",
       "      <td>0.030769</td>\n",
       "      <td>0.903846</td>\n",
       "      <td>0.622156</td>\n",
       "      <td>0.932099</td>\n",
       "      <td>0.799308</td>\n",
       "    </tr>\n",
       "    <tr>\n",
       "      <th>2</th>\n",
       "      <td>0.061538</td>\n",
       "      <td>0.538462</td>\n",
       "      <td>0.448850</td>\n",
       "      <td>0.932099</td>\n",
       "      <td>0.179931</td>\n",
       "    </tr>\n",
       "    <tr>\n",
       "      <th>3</th>\n",
       "      <td>0.400000</td>\n",
       "      <td>0.153846</td>\n",
       "      <td>0.565682</td>\n",
       "      <td>0.759259</td>\n",
       "      <td>0.083045</td>\n",
       "    </tr>\n",
       "    <tr>\n",
       "      <th>4</th>\n",
       "      <td>0.230769</td>\n",
       "      <td>0.442308</td>\n",
       "      <td>0.409226</td>\n",
       "      <td>0.932099</td>\n",
       "      <td>0.757785</td>\n",
       "    </tr>\n",
       "    <tr>\n",
       "      <th>...</th>\n",
       "      <td>...</td>\n",
       "      <td>...</td>\n",
       "      <td>...</td>\n",
       "      <td>...</td>\n",
       "      <td>...</td>\n",
       "    </tr>\n",
       "    <tr>\n",
       "      <th>47634</th>\n",
       "      <td>0.630769</td>\n",
       "      <td>0.884615</td>\n",
       "      <td>0.477775</td>\n",
       "      <td>0.759259</td>\n",
       "      <td>0.197232</td>\n",
       "    </tr>\n",
       "    <tr>\n",
       "      <th>47635</th>\n",
       "      <td>0.323077</td>\n",
       "      <td>0.288462</td>\n",
       "      <td>0.000000</td>\n",
       "      <td>0.962963</td>\n",
       "      <td>0.768166</td>\n",
       "    </tr>\n",
       "    <tr>\n",
       "      <th>47636</th>\n",
       "      <td>0.061538</td>\n",
       "      <td>0.557692</td>\n",
       "      <td>0.512454</td>\n",
       "      <td>0.932099</td>\n",
       "      <td>0.695502</td>\n",
       "    </tr>\n",
       "    <tr>\n",
       "      <th>47637</th>\n",
       "      <td>0.600000</td>\n",
       "      <td>0.576923</td>\n",
       "      <td>0.591278</td>\n",
       "      <td>0.154321</td>\n",
       "      <td>0.792388</td>\n",
       "    </tr>\n",
       "    <tr>\n",
       "      <th>47638</th>\n",
       "      <td>0.492308</td>\n",
       "      <td>0.596154</td>\n",
       "      <td>0.000000</td>\n",
       "      <td>0.759259</td>\n",
       "      <td>0.553633</td>\n",
       "    </tr>\n",
       "  </tbody>\n",
       "</table>\n",
       "<p>47639 rows × 5 columns</p>\n",
       "</div>"
      ],
      "text/plain": [
       "           Umur  Kode_Daerah     Premi  Kanal_Penjualan  Lama_Berlangganan\n",
       "0      0.446154     0.153846  0.745581         0.154321           0.467128\n",
       "1      0.030769     0.903846  0.622156         0.932099           0.799308\n",
       "2      0.061538     0.538462  0.448850         0.932099           0.179931\n",
       "3      0.400000     0.153846  0.565682         0.759259           0.083045\n",
       "4      0.230769     0.442308  0.409226         0.932099           0.757785\n",
       "...         ...          ...       ...              ...                ...\n",
       "47634  0.630769     0.884615  0.477775         0.759259           0.197232\n",
       "47635  0.323077     0.288462  0.000000         0.962963           0.768166\n",
       "47636  0.061538     0.557692  0.512454         0.932099           0.695502\n",
       "47637  0.600000     0.576923  0.591278         0.154321           0.792388\n",
       "47638  0.492308     0.596154  0.000000         0.759259           0.553633\n",
       "\n",
       "[47639 rows x 5 columns]"
      ]
     },
     "execution_count": 43,
     "metadata": {},
     "output_type": "execute_result"
    }
   ],
   "source": [
    "# Min Max Scaller Normalization\n",
    "Scaller = MinMaxScaler()\n",
    "Scaller.fit(df_new)\n",
    "df_new = Scaller.transform(df_new)\n",
    "df_Scale = pd.DataFrame(df_new, columns=['Umur','Kode_Daerah', 'Premi', 'Kanal_Penjualan', 'Lama_Berlangganan'])\n",
    "df_Scale"
   ]
  },
  {
   "cell_type": "code",
   "execution_count": 44,
   "metadata": {},
   "outputs": [
    {
     "data": {
      "text/html": [
       "<div>\n",
       "<style scoped>\n",
       "    .dataframe tbody tr th:only-of-type {\n",
       "        vertical-align: middle;\n",
       "    }\n",
       "\n",
       "    .dataframe tbody tr th {\n",
       "        vertical-align: top;\n",
       "    }\n",
       "\n",
       "    .dataframe thead th {\n",
       "        text-align: right;\n",
       "    }\n",
       "</style>\n",
       "<table border=\"1\" class=\"dataframe\">\n",
       "  <thead>\n",
       "    <tr style=\"text-align: right;\">\n",
       "      <th></th>\n",
       "      <th>pca1</th>\n",
       "      <th>pca2</th>\n",
       "    </tr>\n",
       "  </thead>\n",
       "  <tbody>\n",
       "    <tr>\n",
       "      <th>0</th>\n",
       "      <td>0.551400</td>\n",
       "      <td>-0.026860</td>\n",
       "    </tr>\n",
       "    <tr>\n",
       "      <th>1</th>\n",
       "      <td>-0.296367</td>\n",
       "      <td>0.283790</td>\n",
       "    </tr>\n",
       "    <tr>\n",
       "      <th>2</th>\n",
       "      <td>-0.320930</td>\n",
       "      <td>-0.322478</td>\n",
       "    </tr>\n",
       "    <tr>\n",
       "      <th>3</th>\n",
       "      <td>-0.012849</td>\n",
       "      <td>-0.410986</td>\n",
       "    </tr>\n",
       "    <tr>\n",
       "      <th>4</th>\n",
       "      <td>-0.249439</td>\n",
       "      <td>0.258469</td>\n",
       "    </tr>\n",
       "    <tr>\n",
       "      <th>...</th>\n",
       "      <td>...</td>\n",
       "      <td>...</td>\n",
       "    </tr>\n",
       "    <tr>\n",
       "      <th>47634</th>\n",
       "      <td>0.130048</td>\n",
       "      <td>-0.312312</td>\n",
       "    </tr>\n",
       "    <tr>\n",
       "      <th>47635</th>\n",
       "      <td>-0.288827</td>\n",
       "      <td>0.281609</td>\n",
       "    </tr>\n",
       "    <tr>\n",
       "      <th>47636</th>\n",
       "      <td>-0.313478</td>\n",
       "      <td>0.190913</td>\n",
       "    </tr>\n",
       "    <tr>\n",
       "      <th>47637</th>\n",
       "      <td>0.630875</td>\n",
       "      <td>0.291607</td>\n",
       "    </tr>\n",
       "    <tr>\n",
       "      <th>47638</th>\n",
       "      <td>-0.012752</td>\n",
       "      <td>0.061378</td>\n",
       "    </tr>\n",
       "  </tbody>\n",
       "</table>\n",
       "<p>47639 rows × 2 columns</p>\n",
       "</div>"
      ],
      "text/plain": [
       "           pca1      pca2\n",
       "0      0.551400 -0.026860\n",
       "1     -0.296367  0.283790\n",
       "2     -0.320930 -0.322478\n",
       "3     -0.012849 -0.410986\n",
       "4     -0.249439  0.258469\n",
       "...         ...       ...\n",
       "47634  0.130048 -0.312312\n",
       "47635 -0.288827  0.281609\n",
       "47636 -0.313478  0.190913\n",
       "47637  0.630875  0.291607\n",
       "47638 -0.012752  0.061378\n",
       "\n",
       "[47639 rows x 2 columns]"
      ]
     },
     "execution_count": 44,
     "metadata": {},
     "output_type": "execute_result"
    }
   ],
   "source": [
    "pca = PCA(n_components=2) #Memakai Principle Component Analysis untuk merubah data menjadi 2 dimensi\n",
    "principal = pca.fit_transform(df_Scale)\n",
    "df_pca = pd.DataFrame(data=principal, columns=['pca1','pca2'])\n",
    "df_pca"
   ]
  },
  {
   "cell_type": "code",
   "execution_count": 45,
   "metadata": {},
   "outputs": [],
   "source": [
    "df_final = df_pca.to_numpy()\n",
    "# df_final = df_Scale[['Umur', 'Kanal_Penjualan']].to_numpy()"
   ]
  },
  {
   "cell_type": "code",
   "execution_count": 46,
   "metadata": {
    "id": "W7WM5-ZaQdbN"
   },
   "outputs": [],
   "source": [
    "def importData(x):\n",
    "    arr = []\n",
    "    for i in range(len(x)):\n",
    "        arr.append([x[i][0], x[i][1]])\n",
    "    return arr"
   ]
  },
  {
   "cell_type": "code",
   "execution_count": 47,
   "metadata": {
    "colab": {
     "base_uri": "https://localhost:8080/"
    },
    "id": "fDEAi4MYQeeZ",
    "outputId": "c35a1dfe-f363-4c9c-decc-3584ec192301"
   },
   "outputs": [
    {
     "data": {
      "text/html": [
       "<div>\n",
       "<style scoped>\n",
       "    .dataframe tbody tr th:only-of-type {\n",
       "        vertical-align: middle;\n",
       "    }\n",
       "\n",
       "    .dataframe tbody tr th {\n",
       "        vertical-align: top;\n",
       "    }\n",
       "\n",
       "    .dataframe thead th {\n",
       "        text-align: right;\n",
       "    }\n",
       "</style>\n",
       "<table border=\"1\" class=\"dataframe\">\n",
       "  <thead>\n",
       "    <tr style=\"text-align: right;\">\n",
       "      <th></th>\n",
       "      <th>PCA 1</th>\n",
       "      <th>PCA 2</th>\n",
       "    </tr>\n",
       "  </thead>\n",
       "  <tbody>\n",
       "    <tr>\n",
       "      <th>0</th>\n",
       "      <td>0.551400</td>\n",
       "      <td>-0.026860</td>\n",
       "    </tr>\n",
       "    <tr>\n",
       "      <th>1</th>\n",
       "      <td>-0.296367</td>\n",
       "      <td>0.283790</td>\n",
       "    </tr>\n",
       "    <tr>\n",
       "      <th>2</th>\n",
       "      <td>-0.320930</td>\n",
       "      <td>-0.322478</td>\n",
       "    </tr>\n",
       "    <tr>\n",
       "      <th>3</th>\n",
       "      <td>-0.012849</td>\n",
       "      <td>-0.410986</td>\n",
       "    </tr>\n",
       "    <tr>\n",
       "      <th>4</th>\n",
       "      <td>-0.249439</td>\n",
       "      <td>0.258469</td>\n",
       "    </tr>\n",
       "    <tr>\n",
       "      <th>...</th>\n",
       "      <td>...</td>\n",
       "      <td>...</td>\n",
       "    </tr>\n",
       "    <tr>\n",
       "      <th>47634</th>\n",
       "      <td>0.130048</td>\n",
       "      <td>-0.312312</td>\n",
       "    </tr>\n",
       "    <tr>\n",
       "      <th>47635</th>\n",
       "      <td>-0.288827</td>\n",
       "      <td>0.281609</td>\n",
       "    </tr>\n",
       "    <tr>\n",
       "      <th>47636</th>\n",
       "      <td>-0.313478</td>\n",
       "      <td>0.190913</td>\n",
       "    </tr>\n",
       "    <tr>\n",
       "      <th>47637</th>\n",
       "      <td>0.630875</td>\n",
       "      <td>0.291607</td>\n",
       "    </tr>\n",
       "    <tr>\n",
       "      <th>47638</th>\n",
       "      <td>-0.012752</td>\n",
       "      <td>0.061378</td>\n",
       "    </tr>\n",
       "  </tbody>\n",
       "</table>\n",
       "<p>47639 rows × 2 columns</p>\n",
       "</div>"
      ],
      "text/plain": [
       "          PCA 1     PCA 2\n",
       "0      0.551400 -0.026860\n",
       "1     -0.296367  0.283790\n",
       "2     -0.320930 -0.322478\n",
       "3     -0.012849 -0.410986\n",
       "4     -0.249439  0.258469\n",
       "...         ...       ...\n",
       "47634  0.130048 -0.312312\n",
       "47635 -0.288827  0.281609\n",
       "47636 -0.313478  0.190913\n",
       "47637  0.630875  0.291607\n",
       "47638 -0.012752  0.061378\n",
       "\n",
       "[47639 rows x 2 columns]"
      ]
     },
     "execution_count": 47,
     "metadata": {},
     "output_type": "execute_result"
    }
   ],
   "source": [
    "Data = importData(df_final)\n",
    "df_Data = pd.DataFrame(Data, columns=['PCA 1', 'PCA 2'])\n",
    "df_Data\n",
    "# print(Data)\n",
    "# 0.7455811372159903 0.15432098765432098 0"
   ]
  },
  {
   "cell_type": "code",
   "execution_count": 48,
   "metadata": {
    "id": "_jGUal7HQfpN"
   },
   "outputs": [],
   "source": [
    "def randCen(arr, x):\n",
    "    arrCen = []\n",
    "    for i in range(x):\n",
    "        rand = random.randint(0, len(arr))\n",
    "        arrCen.append(arr[rand])\n",
    "    return arrCen"
   ]
  },
  {
   "cell_type": "code",
   "execution_count": 49,
   "metadata": {
    "id": "STxRUFD8Qg_J"
   },
   "outputs": [],
   "source": [
    "def euclidean(arrtest, testing):\n",
    "    i = 0\n",
    "    x = 0\n",
    "    while (i < len(arrtest)):\n",
    "        x = x + ((arrtest[i] - testing[i]) * (arrtest[i] - testing[i]))\n",
    "        i = i + 1\n",
    "    return math.sqrt(x)"
   ]
  },
  {
   "cell_type": "code",
   "execution_count": 50,
   "metadata": {
    "id": "0Oea6Tw2QiIN"
   },
   "outputs": [],
   "source": [
    "# [[0.7455811372159903, 0.15432098765432098], [0.6221556986932611, 0.9320987654320987]]\n",
    "def calculateEclu(arr, x):\n",
    "    newArr = []\n",
    "    for i in range(len(arr)):\n",
    "        newArr.append([])\n",
    "        for j in range(len(x)):\n",
    "            newArr[i].append(euclidean(arr[i], x[j]))\n",
    "    return newArr"
   ]
  },
  {
   "cell_type": "code",
   "execution_count": 51,
   "metadata": {},
   "outputs": [],
   "source": [
    "def mean(x):\n",
    "#     print(len(x))\n",
    "    return sum(x)/len(x)"
   ]
  },
  {
   "cell_type": "code",
   "execution_count": 52,
   "metadata": {},
   "outputs": [],
   "source": [
    "def defineCluster2(data, cen):\n",
    "    hasilEclu = calculateEclu(data, cen)\n",
    "    cluster = []\n",
    "    for i in range(len(hasilEclu)):\n",
    "        m = min(hasilEclu[i])\n",
    "        idx = hasilEclu[i].index(m)\n",
    "        cluster.append([data[i][0], data[i][1], idx])\n",
    "    return cluster, hasilEclu\n",
    "    "
   ]
  },
  {
   "cell_type": "code",
   "execution_count": 53,
   "metadata": {},
   "outputs": [],
   "source": [
    "def meanCen(x, k):\n",
    "    newCen = []\n",
    "    data1 = []\n",
    "    data2 = []\n",
    "    for i in range(k):\n",
    "        for j in range(len(x)):\n",
    "            if x[j][2] == i:\n",
    "                data1.append(x[j][0])\n",
    "                data2.append(x[j][1])\n",
    "#         print(len(data1))\n",
    "#         print(len(data2))\n",
    "        newCen.append([mean(data1), mean(data2)])\n",
    "        data1 = []\n",
    "        data2 = []\n",
    "    return newCen"
   ]
  },
  {
   "cell_type": "code",
   "execution_count": 54,
   "metadata": {},
   "outputs": [],
   "source": [
    "def visual2D(x, cen, k):\n",
    "    plt.subplots(figsize=(10,10))\n",
    "    for i in range(k):\n",
    "        xarr = []\n",
    "        yarr = []\n",
    "        for j in range(len(x)):\n",
    "            # print(x[j][k])\n",
    "            if x[j][2] == i:\n",
    "                xarr.append(x[j][0])\n",
    "                yarr.append(x[j][1])\n",
    "        plt.scatter(xarr, yarr)\n",
    "    cenx = []\n",
    "    ceny = []\n",
    "    # output Centroid [[Cen_x_1, Cen_y_1], [Cen_x_2, Cen_y_2]]\n",
    "    for i in range(k):\n",
    "        cenx.append(cen[i][0])\n",
    "        ceny.append(cen[i][1])\n",
    "    plt.scatter(cenx, ceny, s=299, color='black')"
   ]
  },
  {
   "cell_type": "code",
   "execution_count": 55,
   "metadata": {},
   "outputs": [
    {
     "name": "stdout",
     "output_type": "stream",
     "text": [
      "[[-0.12450003942156423, -0.25688146405809975], [-0.06466158788564985, -0.31916045284909156], [-0.30931985637974213, 0.19863326269787718], [-0.3581222026068929, 0.20634897868897195]]\n"
     ]
    }
   ],
   "source": [
    "k = 4\n",
    "cen = randCen(Data, k)\n",
    "print(cen)\n",
    "# cluster, distance = defineCluster2(Data, cen)\n",
    "# df_cluster = pd.DataFrame(cluster, columns=['PCA 1', 'PCA 2', 'CLUSTER'])\n",
    "# df_cluster\n",
    "# cluster = defineCluster2(Data, \n",
    "# visual2D(cluster, cen, k)\n",
    "# newCen = meanCen(cluster, k)\n",
    "# display = pd.DataFrame(cluster, columns=['PCA 1','PCA 2', 'Cluster'])\n",
    "# display\n",
    "# visual2D(cluster, cen, k)\n",
    "# newCen = meanCen(cluster, k)"
   ]
  },
  {
   "cell_type": "code",
   "execution_count": 56,
   "metadata": {},
   "outputs": [],
   "source": [
    "def Kmeans(k , cen):\n",
    "    while True:\n",
    "        x = 0\n",
    "        y = 0\n",
    "        xmean = 0\n",
    "        ymean = 0\n",
    "        # print(arrCen)\n",
    "        # print(cenMean)\n",
    "        # print(\"=====================================================\")\n",
    "        cluster, distance = defineCluster2(Data, cen)\n",
    "        # visual2D(cluster, cen, k)\n",
    "        newCen = meanCen(cluster, k)\n",
    "        for i in range(k):\n",
    "            x = x + mean(cen[i])\n",
    "            y = y + mean(newCen[i])\n",
    "        xmean = x / k\n",
    "        ymean = y / k\n",
    "        # print(xmean, \"==\", ymean)\n",
    "        if xmean == ymean :\n",
    "            print(\"END\")\n",
    "            break\n",
    "        cen = newCen\n",
    "    # coba aja dulu yang dibawah ini\n",
    "    df_cluster = pd.DataFrame(distance)\n",
    "    return cluster, cen, df_cluster\n",
    "    # print(cluster)"
   ]
  },
  {
   "cell_type": "code",
   "execution_count": 57,
   "metadata": {},
   "outputs": [
    {
     "name": "stdout",
     "output_type": "stream",
     "text": [
      "END\n"
     ]
    },
    {
     "data": {
      "text/html": [
       "<div>\n",
       "<style scoped>\n",
       "    .dataframe tbody tr th:only-of-type {\n",
       "        vertical-align: middle;\n",
       "    }\n",
       "\n",
       "    .dataframe tbody tr th {\n",
       "        vertical-align: top;\n",
       "    }\n",
       "\n",
       "    .dataframe thead th {\n",
       "        text-align: right;\n",
       "    }\n",
       "</style>\n",
       "<table border=\"1\" class=\"dataframe\">\n",
       "  <thead>\n",
       "    <tr style=\"text-align: right;\">\n",
       "      <th></th>\n",
       "      <th>0</th>\n",
       "      <th>1</th>\n",
       "      <th>2</th>\n",
       "      <th>3</th>\n",
       "    </tr>\n",
       "  </thead>\n",
       "  <tbody>\n",
       "    <tr>\n",
       "      <th>0</th>\n",
       "      <td>0.805199</td>\n",
       "      <td>0.017505</td>\n",
       "      <td>0.564656</td>\n",
       "      <td>0.904711</td>\n",
       "    </tr>\n",
       "    <tr>\n",
       "      <th>1</th>\n",
       "      <td>0.561379</td>\n",
       "      <td>0.910370</td>\n",
       "      <td>0.347128</td>\n",
       "      <td>0.049780</td>\n",
       "    </tr>\n",
       "    <tr>\n",
       "      <th>2</th>\n",
       "      <td>0.116859</td>\n",
       "      <td>0.936776</td>\n",
       "      <td>0.658126</td>\n",
       "      <td>0.559728</td>\n",
       "    </tr>\n",
       "    <tr>\n",
       "      <th>3</th>\n",
       "      <td>0.245998</td>\n",
       "      <td>0.699791</td>\n",
       "      <td>0.637807</td>\n",
       "      <td>0.714699</td>\n",
       "    </tr>\n",
       "    <tr>\n",
       "      <th>4</th>\n",
       "      <td>0.531300</td>\n",
       "      <td>0.857779</td>\n",
       "      <td>0.297027</td>\n",
       "      <td>0.067891</td>\n",
       "    </tr>\n",
       "  </tbody>\n",
       "</table>\n",
       "</div>"
      ],
      "text/plain": [
       "          0         1         2         3\n",
       "0  0.805199  0.017505  0.564656  0.904711\n",
       "1  0.561379  0.910370  0.347128  0.049780\n",
       "2  0.116859  0.936776  0.658126  0.559728\n",
       "3  0.245998  0.699791  0.637807  0.714699\n",
       "4  0.531300  0.857779  0.297027  0.067891"
      ]
     },
     "execution_count": 57,
     "metadata": {},
     "output_type": "execute_result"
    },
    {
     "data": {
      "image/png": "[encoded data removed]",
      "text/plain": [
       "<Figure size 720x720 with 1 Axes>"
      ]
     },
     "metadata": {
      "needs_background": "light"
     },
     "output_type": "display_data"
    }
   ],
   "source": [
    "cluster, cen, df_cluster = Kmeans(k, cen)\n",
    "visual2D(cluster, cen, k)\n",
    "df_cluster.head()\n"
   ]
  },
  {
   "cell_type": "markdown",
   "metadata": {},
   "source": [
    "# **EVALUASI**"
   ]
  },
  {
   "cell_type": "code",
   "execution_count": 29,
   "metadata": {},
   "outputs": [],
   "source": [
    "X = df_Data.values\n",
    "\n",
    "distortions = []\n",
    "inertias = []\n",
    "mapping1 = {}\n",
    "mapping2 = {}\n",
    "K = range(1, 10)\n",
    "\n",
    "for k in K:\n",
    "    # Building and fitting the model\n",
    "    kmeanModel = KMeans(n_clusters=k).fit(X)\n",
    "    kmeanModel.fit(X)\n",
    " \n",
    "    distortions.append(sum(np.min(cdist(X, kmeanModel.cluster_centers_,\n",
    "                                        'euclidean'), axis=1)) / X.shape[0])\n",
    "    inertias.append(kmeanModel.inertia_)\n",
    " \n",
    "    mapping1[k] = sum(np.min(cdist(X, kmeanModel.cluster_centers_,\n",
    "                                   'euclidean'), axis=1)) / X.shape[0]\n",
    "    mapping2[k] = kmeanModel.inertia_"
   ]
  },
  {
   "cell_type": "code",
   "execution_count": 30,
   "metadata": {},
   "outputs": [
    {
     "name": "stdout",
     "output_type": "stream",
     "text": [
      "1 : 0.44085360665082146\n",
      "2 : 0.29923206005254593\n",
      "3 : 0.2248411048127261\n",
      "4 : 0.19324284050743368\n",
      "5 : 0.1710383018724885\n",
      "6 : 0.15203402854049822\n",
      "7 : 0.1331580799906916\n",
      "8 : 0.12407335201502988\n",
      "9 : 0.11602446778996924\n"
     ]
    }
   ],
   "source": [
    "for key, val in mapping1.items():\n",
    "    print(f'{key} : {val}')"
   ]
  },
  {
   "cell_type": "code",
   "execution_count": 31,
   "metadata": {},
   "outputs": [
    {
     "data": {
      "image/png": "[encoded data removed]",
      "text/plain": [
       "<Figure size 432x288 with 1 Axes>"
      ]
     },
     "metadata": {
      "needs_background": "light"
     },
     "output_type": "display_data"
    }
   ],
   "source": [
    "\n",
    "plt.plot(K, distortions, 'bx-')\n",
    "plt.xlabel('Values of K')\n",
    "plt.ylabel('Distortion')\n",
    "plt.title('The Elbow Method using Distortion')\n",
    "plt.show()"
   ]
  }
 ],
 "metadata": {
  "colab": {
   "collapsed_sections": [],
   "name": "tubes.ipynb",
   "provenance": []
  },
  "interpreter": {
   "hash": "14388ca568defe322aeab8729908ca889725a5c21760904d3bc2b9221a1bd3cf"
  },
  "kernelspec": {
   "display_name": "Python 3.9.7 64-bit",
   "name": "python3"
  },
  "language_info": {
   "codemirror_mode": {
    "name": "ipython",
    "version": 3
   },
   "file_extension": ".py",
   "mimetype": "text/x-python",
   "name": "python",
   "nbconvert_exporter": "python",
   "pygments_lexer": "ipython3",
   "version": "3.9.7"
  }
 },
 "nbformat": 4,
 "nbformat_minor": 1
}
